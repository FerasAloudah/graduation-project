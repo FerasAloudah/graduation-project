{
 "cells": [
  {
   "cell_type": "code",
   "execution_count": 1,
   "metadata": {},
   "outputs": [],
   "source": [
    "import pandas as pd\n",
    "from tqdm import tqdm\n",
    "from datetime import datetime\n",
    "\n",
    "tqdm.pandas()"
   ]
  },
  {
   "cell_type": "code",
   "execution_count": 20,
   "metadata": {},
   "outputs": [],
   "source": [
    "# df_final = pd.read_csv('../checkpoints/relationship_final/relationship_final_2020-04-16_21-00-58.csv')\n",
    "df_final = pd.read_csv('../checkpoints/relationship_final/relationship_final_dimensions_2020-04-16_21-21-24.csv')"
   ]
  },
  {
   "cell_type": "markdown",
   "metadata": {},
   "source": [
    "# Adding Relationship Bounding Boxes:"
   ]
  },
  {
   "cell_type": "code",
   "execution_count": 21,
   "metadata": {},
   "outputs": [],
   "source": [
    "df_final['XMin3'] = df_final[['XMin1', 'XMin2']].min(axis=1)\n",
    "df_final['XMax3'] = df_final[['XMax1', 'XMax2']].max(axis=1)\n",
    "\n",
    "df_final['YMin3'] = df_final[['YMin1', 'YMin2']].min(axis=1)\n",
    "df_final['YMax3'] = df_final[['YMax1', 'YMax2']].max(axis=1)"
   ]
  },
  {
   "cell_type": "markdown",
   "metadata": {},
   "source": [
    "# Adding Area:"
   ]
  },
  {
   "cell_type": "code",
   "execution_count": 22,
   "metadata": {},
   "outputs": [],
   "source": [
    "for i in range(1, 4):\n",
    "    df_final[f'Area{i}'] = (df_final[f'XMax{i}'] - df_final[f'XMin{i}']) * (df_final[f'YMax{i}'] - df_final[f'YMin{i}'])"
   ]
  },
  {
   "cell_type": "markdown",
   "metadata": {},
   "source": [
    "# Add Distance:"
   ]
  },
  {
   "cell_type": "code",
   "execution_count": 23,
   "metadata": {},
   "outputs": [],
   "source": [
    "df_final['DistanceTopLeft'] = ((df_final['XMin2'] - df_final['XMin1']) ** 2 + (df_final['YMin2'] - df_final['YMax1']) ** 2) ** 0.5\n",
    "df_final['DistanceTopRight'] = ((df_final['XMax2'] - df_final['XMax1']) ** 2 + (df_final['YMax2'] - df_final['YMax1']) ** 2) ** 0.5\n",
    "df_final['DistanceBottomLeft'] = ((df_final['XMin2'] - df_final['XMin1']) ** 2 + (df_final['YMin2'] - df_final['YMin1']) ** 2) ** 0.5\n",
    "df_final['DistanceBottomRight'] = ((df_final['XMax2'] - df_final['XMax1']) ** 2 + (df_final['YMin2'] - df_final['YMin1']) ** 2) ** 0.5\n",
    "df_final['DistanceCenter'] = (df_final['DistanceTopLeft'] + df_final['DistanceTopRight'] + df_final['DistanceBottomLeft'] + df_final['DistanceBottomRight']) / 4"
   ]
  },
  {
   "cell_type": "markdown",
   "metadata": {},
   "source": [
    "# Adding IOU:"
   ]
  },
  {
   "cell_type": "code",
   "execution_count": 24,
   "metadata": {},
   "outputs": [],
   "source": [
    "def get_box(row, i):\n",
    "    return {\n",
    "        'left': row[f'XMin{i}'],\n",
    "        'top': row[f'YMin{i}'],\n",
    "        'width': row[f'XMax{i}'] - row[f'XMin{i}'],\n",
    "        'height': row[f'YMax{i}'] - row[f'YMin{i}']\n",
    "    }"
   ]
  },
  {
   "cell_type": "code",
   "execution_count": 25,
   "metadata": {},
   "outputs": [],
   "source": [
    "def intersection_over_union(row):\n",
    "    box_a = get_box(row, 1)\n",
    "    box_b = get_box(row, 2)\n",
    "    # Determine the coordinates of each of the two boxes\n",
    "    xA = max(box_a['left'], box_b['left'])\n",
    "    yA = max(box_a['top'], box_b['top'])\n",
    "    xB = min(box_a['left'] + box_a['width'], box_b['left']+box_b['width'])\n",
    "    yB = min(box_a['top'] + box_a['height'], box_b['top']+box_b['height'])\n",
    "\n",
    "    # Calculate the area of the intersection area\n",
    "    area_of_intersection = (xB - xA + 1) * (yB - yA + 1)\n",
    "\n",
    "    # Calculate the area of both rectangles\n",
    "    box_a_area = (box_a['width'] + 1) * (box_a['height'] + 1)\n",
    "    box_b_area = (box_b['width'] + 1) * (box_b['height'] + 1)\n",
    "    # Calculate the area of intersection divided by the area of union\n",
    "    # Area of union = sum both areas less the area of intersection\n",
    "    iou = area_of_intersection / float(box_a_area + box_b_area - area_of_intersection)\n",
    "\n",
    "    # Return the score\n",
    "    return iou"
   ]
  },
  {
   "cell_type": "code",
   "execution_count": 26,
   "metadata": {},
   "outputs": [
    {
     "name": "stderr",
     "output_type": "stream",
     "text": [
      "100%|████████████████████████████████████████████████████████████████████████| 700000/700000 [01:11<00:00, 9821.73it/s]\n"
     ]
    }
   ],
   "source": [
    "df_final['IoU'] = df_final.progress_apply(intersection_over_union, axis=1)"
   ]
  },
  {
   "cell_type": "markdown",
   "metadata": {},
   "source": [
    "# Adding Relationship Frequency"
   ]
  },
  {
   "cell_type": "code",
   "execution_count": 27,
   "metadata": {},
   "outputs": [],
   "source": [
    "df_freq = pd.read_csv('../checkpoints/relationship_freq/relationships_freq_2020-04-10_18-08-07.csv')"
   ]
  },
  {
   "cell_type": "code",
   "execution_count": 28,
   "metadata": {},
   "outputs": [],
   "source": [
    "df_final = pd.merge(df_final.reset_index(), df_freq.reset_index(), how='inner', on=['LabelName1', \n",
    "                                                                                    'LabelName2', 'RelationshipLabel'])"
   ]
  },
  {
   "cell_type": "code",
   "execution_count": 29,
   "metadata": {},
   "outputs": [],
   "source": [
    "df_final['RelationshipFrequency'] = df_final.RelationshipCount / df_final.LabelCount"
   ]
  },
  {
   "cell_type": "code",
   "execution_count": 30,
   "metadata": {},
   "outputs": [],
   "source": [
    "columns = df_final.columns.tolist()\n",
    "columns.remove('index_y')\n",
    "columns.remove('index_x')\n",
    "columns.remove('RelationshipCount')\n",
    "columns.remove('LabelCount')\n",
    "columns.remove('RelationshipLabel')\n",
    "columns.append('RelationshipLabel')\n",
    "df_final = df_final[columns]"
   ]
  },
  {
   "cell_type": "code",
   "execution_count": 31,
   "metadata": {},
   "outputs": [],
   "source": [
    "# df_final.to_csv('../metadata/relationship_final/relationship_final.csv', index=False)\n",
    "df_final.to_csv('../metadata/relationship_final/relationship_final_dimensions.csv', index=False)"
   ]
  }
 ],
 "metadata": {
  "kernelspec": {
   "display_name": "Python 3",
   "language": "python",
   "name": "python3"
  },
  "language_info": {
   "codemirror_mode": {
    "name": "ipython",
    "version": 3
   },
   "file_extension": ".py",
   "mimetype": "text/x-python",
   "name": "python",
   "nbconvert_exporter": "python",
   "pygments_lexer": "ipython3",
   "version": "3.7.3"
  }
 },
 "nbformat": 4,
 "nbformat_minor": 2
}
