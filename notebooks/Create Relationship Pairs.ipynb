{
 "cells": [
  {
   "cell_type": "code",
   "execution_count": 1,
   "metadata": {},
   "outputs": [],
   "source": [
    "import pandas as pd\n",
    "import numpy as np\n",
    "import warnings\n",
    "from pprint import pprint\n",
    "from tqdm import tqdm\n",
    "from glob import glob\n",
    "from datetime import datetime\n",
    "\n",
    "warnings.filterwarnings('ignore')"
   ]
  },
  {
   "cell_type": "code",
   "execution_count": 2,
   "metadata": {},
   "outputs": [],
   "source": [
    "def get_objects(bbox_df):\n",
    "    objects = []\n",
    "    for idx, row in bbox_df.iterrows():\n",
    "        object_features = [row.LabelName, row.XMin, row.XMax, row.YMin, row.YMax]\n",
    "        objects.append(object_features)\n",
    "    return objects"
   ]
  },
  {
   "cell_type": "code",
   "execution_count": 3,
   "metadata": {},
   "outputs": [],
   "source": [
    "def get_relationship_pairs(objects_count):\n",
    "    pairs = []\n",
    "    for i in range(objects_count):\n",
    "        for j in range(i+1, objects_count):\n",
    "            pairs.append([i, j])\n",
    "    return pairs"
   ]
  },
  {
   "cell_type": "code",
   "execution_count": 28,
   "metadata": {},
   "outputs": [],
   "source": [
    "def get_new_rows(pairs, objects, relationship_groups, image_id):\n",
    "    rows = []\n",
    "    for x, y in pairs:\n",
    "        relationship = [objects[x], objects[y]]\n",
    "        row = {\n",
    "            'ImageID': image_id,\n",
    "        }\n",
    "        if (relationship[0][0], relationship[1][0]) not in relationship_groups:\n",
    "            relationship = relationship[::-1]\n",
    "            relationship_groups.append((relationship[0][0], relationship[1][0]))\n",
    "        for idx, object_features in enumerate(relationship):\n",
    "            row[f'LabelName{idx+1}'] = object_features[0]\n",
    "            row[f'XMin{idx+1}'] = object_features[1]\n",
    "            row[f'XMax{idx+1}'] = object_features[2]\n",
    "            row[f'YMin{idx+1}'] = object_features[3]\n",
    "            row[f'YMax{idx+1}'] = object_features[4]\n",
    "        rows.append(row)\n",
    "    return rows, relationship_groups"
   ]
  },
  {
   "cell_type": "code",
   "execution_count": 23,
   "metadata": {},
   "outputs": [],
   "source": [
    "relationship_df = pd.read_csv('../metadata/relationship_final/relationship_final.csv', nrows=450_000)\n",
    "bbox_df = pd.read_csv('../metadata/predictions_cleaned_v3.csv')"
   ]
  },
  {
   "cell_type": "code",
   "execution_count": 27,
   "metadata": {},
   "outputs": [],
   "source": [
    "relationship_groups = list(relationship_df.groupby(['LabelName1', 'LabelName2']).groups.keys())\n",
    "bbox_grouped = bbox_df.groupby('ImageId')"
   ]
  },
  {
   "cell_type": "code",
   "execution_count": 1,
   "metadata": {},
   "outputs": [],
   "source": [
    "relationship_df_new = pd.DataFrame(columns=relationship_df.columns.tolist()[:11])\n",
    "for name, group in tqdm(bbox_grouped):\n",
    "    objects = get_objects(group)\n",
    "    relationship_pairs = get_relationship_pairs(len(objects))\n",
    "    rows, relationship_groups = get_new_rows(relationship_pairs, objects, relationship_groups, name)\n",
    "    relationship_df_new = relationship_df_new.append(pd.DataFrame(rows), ignore_index=True, sort=False)"
   ]
  },
  {
   "cell_type": "code",
   "execution_count": 26,
   "metadata": {},
   "outputs": [],
   "source": [
    "relationship_df_new.to_csv('../metadata/relationship_pairs_v2.csv', index=False)"
   ]
  }
 ],
 "metadata": {
  "kernelspec": {
   "display_name": "Python 3",
   "language": "python",
   "name": "python3"
  },
  "language_info": {
   "codemirror_mode": {
    "name": "ipython",
    "version": 3
   },
   "file_extension": ".py",
   "mimetype": "text/x-python",
   "name": "python",
   "nbconvert_exporter": "python",
   "pygments_lexer": "ipython3",
   "version": "3.7.3"
  }
 },
 "nbformat": 4,
 "nbformat_minor": 2
}
