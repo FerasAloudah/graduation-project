{
 "cells": [
  {
   "cell_type": "code",
   "execution_count": 2,
   "metadata": {},
   "outputs": [],
   "source": [
    "import pandas as pd\n",
    "import numpy as np\n",
    "import warnings\n",
    "from pprint import pprint\n",
    "from tqdm.notebook import tqdm\n",
    "from glob import glob\n",
    "from datetime import datetime\n",
    "\n",
    "warnings.filterwarnings('ignore')\n",
    "\n",
    "RELATIONSHIPS_FOLDER = '../metadata/relationships'\n",
    "BBOX_FOLDER = '../metadata/bbox'\n",
    "LABELS_FILE = '../metadata/class-descriptions-boxable.csv'"
   ]
  },
  {
   "cell_type": "markdown",
   "metadata": {},
   "source": [
    "# Load the data:"
   ]
  },
  {
   "cell_type": "code",
   "execution_count": 57,
   "metadata": {},
   "outputs": [],
   "source": [
    "# Dataframes of all relationships in (ImageID, LabelName1, LabelName2, XMin1, XMax1, YMin1, YMax1, XMin2, XMax2, YMin2, YMax2, RelationLabel) format\n",
    "relationship_dfs = [pd.read_csv(file_name) for file_name in glob(RELATIONSHIPS_FOLDER + '/*.csv')]\n",
    "# Dataframes of all Bounding Boxes in (ImageID, Source, LabelName, Confidence, XMin, XMax, YMin, YMax, IsOccluded, IsTruncated, IsGroupOf, IsDepiction, IsInside, XClick1X, XClick2X, XClick3X, XClick4X, XClick1Y, XClick2Y, XClick3Y, XClick4Y) format\n",
    "bbox_dfs = [pd.read_csv(file_name) for file_name in glob(BBOX_FOLDER + '/*.csv')]"
   ]
  },
  {
   "cell_type": "code",
   "execution_count": 58,
   "metadata": {},
   "outputs": [],
   "source": [
    "# Merge all Dataframes into one dataframe\n",
    "relationship_df = relationship_dfs[0].append(relationship_dfs[1]).append(relationship_dfs[2])\n",
    "# Merge all Dataframes into one dataframe\n",
    "bbox_df = bbox_dfs[0].append(bbox_dfs[1]).append(bbox_dfs[2])"
   ]
  },
  {
   "cell_type": "code",
   "execution_count": 60,
   "metadata": {},
   "outputs": [
    {
     "data": {
      "text/plain": [
       "(3284282, 12)"
      ]
     },
     "execution_count": 60,
     "metadata": {},
     "output_type": "execute_result"
    }
   ],
   "source": [
    "relationship_df.shape"
   ]
  },
  {
   "cell_type": "code",
   "execution_count": 63,
   "metadata": {},
   "outputs": [
    {
     "data": {
      "text/plain": [
       "(15851536, 21)"
      ]
     },
     "execution_count": 63,
     "metadata": {},
     "output_type": "execute_result"
    }
   ],
   "source": [
    "bbox_df.shape"
   ]
  },
  {
   "cell_type": "markdown",
   "metadata": {},
   "source": [
    "# Clean the data:"
   ]
  },
  {
   "cell_type": "code",
   "execution_count": 66,
   "metadata": {},
   "outputs": [],
   "source": [
    "# Remove 'is' relationship from the data.\n",
    "relationship_df_final = relationship_df[relationship_df.RelationshipLabel != 'is']"
   ]
  },
  {
   "cell_type": "code",
   "execution_count": 68,
   "metadata": {},
   "outputs": [],
   "source": [
    "# Remove images that don't have any labeled relationships.\n",
    "bbox_df_final = bbox_df[bbox_df.ImageID.isin(relationship_df_final.ImageID.unique().tolist())]"
   ]
  },
  {
   "cell_type": "code",
   "execution_count": 170,
   "metadata": {},
   "outputs": [],
   "source": [
    "labels_df = pd.read_csv(LABELS_FILE)\n",
    "labels_dict = {label_id: label_name for label_id, label_name in zip(labels_df.LabelID.tolist(), labels_df.LabelName.tolist())}\n",
    "\n",
    "def label_to_string(series):\n",
    "    return series.map(labels_dict.get)"
   ]
  },
  {
   "cell_type": "code",
   "execution_count": 100,
   "metadata": {
    "scrolled": true
   },
   "outputs": [],
   "source": [
    "relationship_df_final['LabelName1'] = label_to_string(relationship_df_final['LabelName1'])\n",
    "relationship_df_final['LabelName2'] = label_to_string(relationship_df_final['LabelName2'])\n",
    "bbox_df_final['LabelName'] = label_to_string(bbox_df_final['LabelName'])"
   ]
  },
  {
   "cell_type": "code",
   "execution_count": 156,
   "metadata": {},
   "outputs": [],
   "source": [
    "relationship_df_final = relationship_df_final.reset_index()"
   ]
  },
  {
   "cell_type": "code",
   "execution_count": 157,
   "metadata": {},
   "outputs": [],
   "source": [
    "grouped_relationships = relationship_df_final.groupby(['LabelName1', 'LabelName2'])\n",
    "relationship_keys = list(grouped_relationships.groups.keys())"
   ]
  },
  {
   "cell_type": "code",
   "execution_count": 171,
   "metadata": {
    "scrolled": false
   },
   "outputs": [],
   "source": [
    "# Get relationships that have equal labels.\n",
    "# And reorder the columns for half of them.\n",
    "relationships_to_fix = []\n",
    "for idx, key in enumerate(relationship_keys):\n",
    "    if key[::-1] in relationship_keys and key[0] != key[1]:\n",
    "        relationships_to_fix.append(key)\n",
    "\n",
    "i = 0\n",
    "while i < len(relationships_to_fix):\n",
    "    relationships_to_fix.remove(relationships_to_fix[i][::-1])\n",
    "    i += 1"
   ]
  },
  {
   "cell_type": "code",
   "execution_count": 206,
   "metadata": {},
   "outputs": [],
   "source": [
    "def swap_columns(df, columns, index):\n",
    "    df.loc[index, columns] = df.loc[index, columns[::-1]].values"
   ]
  },
  {
   "cell_type": "code",
   "execution_count": 165,
   "metadata": {},
   "outputs": [],
   "source": [
    "# Swap labelname1, and labelname2.\n",
    "for group in relationships_to_fix:\n",
    "    swap_columns(relationship_df_final, ['LabelName1', 'LabelName2'], grouped_relationships.get_group(group).index)"
   ]
  },
  {
   "cell_type": "code",
   "execution_count": 196,
   "metadata": {},
   "outputs": [],
   "source": [
    "# Convert 'under' relationship to 'on' by swapping labelname1 and labelname2.\n",
    "index = relationship_df_final[relationship_df_final.RelationshipLabel == 'under'].index\n",
    "swap_columns(relationship_df_final, ['LabelName1', 'LabelName2'], index)\n",
    "relationship_df_final.loc[index, 'RelationshipLabel'] = 'on'"
   ]
  },
  {
   "cell_type": "code",
   "execution_count": 223,
   "metadata": {},
   "outputs": [],
   "source": [
    "# Gets union of LabelName1 and LabelName2 in Relationship-Dataframe and eliminate duplicate\n",
    "labels_set = set(relationship_df.LabelName1.unique()).union(relationship_df.LabelName2.unique())"
   ]
  },
  {
   "cell_type": "code",
   "execution_count": 226,
   "metadata": {},
   "outputs": [],
   "source": [
    "# Removing unnecessary labels from bbox_df\n",
    "bbox_df_final = bbox_df_final[bbox_df_final.LabelName.isin(labels_set)]"
   ]
  },
  {
   "cell_type": "code",
   "execution_count": 257,
   "metadata": {},
   "outputs": [],
   "source": [
    "# Removing unnecessary columns\n",
    "relationship_df_final = relationship_df_final[relationship_df_final.columns.tolist()[1:]]\n",
    "bbox_df_final = bbox_df_final[bbox_dfs[1].columns.tolist()[]]"
   ]
  },
  {
   "cell_type": "markdown",
   "metadata": {},
   "source": [
    "# Checkpoint:"
   ]
  },
  {
   "cell_type": "code",
   "execution_count": 381,
   "metadata": {},
   "outputs": [],
   "source": [
    "date = str(datetime.now()).replace(' ', '_').replace(':', '-').split('.')[0]\n",
    "relationship_df_final.to_csv(f'../checkpoints/relationships_modified_{date}.csv', index=False)\n",
    "bbox_df_final.to_csv(f'../checkpoints/bbox_modified_{date}.csv', index=False)"
   ]
  },
  {
   "cell_type": "markdown",
   "metadata": {},
   "source": [
    "# Load from checkpoint:"
   ]
  },
  {
   "cell_type": "code",
   "execution_count": 3,
   "metadata": {},
   "outputs": [],
   "source": [
    "checkpoints = glob('../checkpoints/*.csv')"
   ]
  },
  {
   "cell_type": "code",
   "execution_count": 4,
   "metadata": {},
   "outputs": [],
   "source": [
    "relationship_checkpoint = [checkpoint for checkpoint in checkpoints if 'relationships' in checkpoint][-1]\n",
    "bbox_checkpoint = [checkpoint for checkpoint in checkpoints if 'bbox' in checkpoint][-1]"
   ]
  },
  {
   "cell_type": "code",
   "execution_count": 5,
   "metadata": {},
   "outputs": [],
   "source": [
    "relationship_df = pd.read_csv(relationship_checkpoint)\n",
    "bbox_df = pd.read_csv(bbox_checkpoint)"
   ]
  },
  {
   "cell_type": "markdown",
   "metadata": {},
   "source": [
    "# Combining Utils:"
   ]
  },
  {
   "cell_type": "code",
   "execution_count": 10,
   "metadata": {},
   "outputs": [],
   "source": [
    "# Destruct bbox object to better fomat\n",
    "def get_box(bbox):\n",
    "    return {\n",
    "        'left': bbox[1],\n",
    "        'top': bbox[3],\n",
    "        'width': bbox[2] - bbox[1],\n",
    "        'height': bbox[4] - bbox[3]\n",
    "    }"
   ]
  },
  {
   "cell_type": "code",
   "execution_count": 11,
   "metadata": {},
   "outputs": [],
   "source": [
    "# calculate IOU (intersection over union) used to check how close two bounding boxes are\n",
    "def intersection_over_union(box_a, box_b):\n",
    "    # Determine the coordinates of each of the two boxes\n",
    "    xA = max(box_a['left'], box_b['left'])\n",
    "    yA = max(box_a['top'], box_b['top'])\n",
    "    xB = min(box_a['left'] + box_a['width'], box_b['left']+box_b['width'])\n",
    "    yB = min(box_a['top'] + box_a['height'], box_b['top']+box_b['height'])\n",
    "\n",
    "    # Calculate the area of the intersection area\n",
    "    area_of_intersection = (xB - xA + 1) * (yB - yA + 1)\n",
    "\n",
    "    # Calculate the area of both rectangles\n",
    "    box_a_area = (box_a['width'] + 1) * (box_a['height'] + 1)\n",
    "    box_b_area = (box_b['width'] + 1) * (box_b['height'] + 1)\n",
    "    # Calculate the area of intersection divided by the area of union\n",
    "    # Area of union = sum both areas less the area of intersection\n",
    "    iou = area_of_intersection / float(box_a_area + box_b_area - area_of_intersection)\n",
    "\n",
    "    # Return the score\n",
    "    return iou"
   ]
  },
  {
   "cell_type": "code",
   "execution_count": 115,
   "metadata": {},
   "outputs": [],
   "source": [
    "# Compares labelname and check if their Iou score is very high\n",
    "def equals(object_a, object_b, box_a, box_b):\n",
    "    return object_a[0] == object_b[0] and intersection_over_union(box_a, box_b) > 0.98"
   ]
  },
  {
   "cell_type": "code",
   "execution_count": 64,
   "metadata": {},
   "outputs": [],
   "source": [
    "# Puts the Relationship-Dataframe's in better format \n",
    "def get_relationships(relationship_df):\n",
    "    relationships = []\n",
    "    for idx, row in relationship_df.iterrows():\n",
    "        label_1 = [row.LabelName1, row.XMin1, row.XMax1, row.YMin1, row.YMax1]\n",
    "        label_2 = [row.LabelName2, row.XMin2, row.XMax2, row.YMin2, row.YMax2]\n",
    "        relationship = [label_1, label_2]\n",
    "        relationships.append(relationship)\n",
    "    return relationships"
   ]
  },
  {
   "cell_type": "code",
   "execution_count": 84,
   "metadata": {},
   "outputs": [],
   "source": [
    "# Puts the BoundingBoxes-Dataframe's in better format \n",
    "def get_objects(bbox_df):\n",
    "    objects = []\n",
    "    for idx, row in bbox_df.iterrows():\n",
    "        object_features = [row.LabelName, row.XMin, row.XMax, row.YMin, row.YMax]\n",
    "        objects.append(object_features)\n",
    "    return objects"
   ]
  },
  {
   "cell_type": "code",
   "execution_count": 71,
   "metadata": {},
   "outputs": [],
   "source": [
    "# Gets list (of indices) of objects that have relation with relationships \n",
    "def get_relationship_indices(relationships, objects):\n",
    "    indices = [[] for _ in relationships]\n",
    "    for i, relationship in enumerate(relationships):\n",
    "        object_a = relationship[0]\n",
    "        object_b = relationship[1]\n",
    "        for j, object_c in enumerate(objects):\n",
    "            box_a = get_box(object_a)\n",
    "            box_b = get_box(object_b)\n",
    "            box_c = get_box(object_c)\n",
    "            if equals(object_a[0], object_c[0], box_a, box_c) or equals(object_b[0], object_c[0], box_b, box_c):\n",
    "                indices[i].append(j)\n",
    "    return indices"
   ]
  },
  {
   "cell_type": "code",
   "execution_count": 118,
   "metadata": {},
   "outputs": [],
   "source": [
    "# Returns indices that are not in relationship_indices\n",
    "def get_none_relationships(relationship_indices, objects_count):\n",
    "    none_relationships = []\n",
    "    for i in range(objects_count):\n",
    "        for j in range(i+1, objects_count):\n",
    "            if not [i, j] in relationship_indices:\n",
    "                none_relationships.append([i, j])\n",
    "    return none_relationships"
   ]
  },
  {
   "cell_type": "code",
   "execution_count": 160,
   "metadata": {},
   "outputs": [],
   "source": [
    "def get_none_rows(none_relationships, objects, relationship_groups, image_id):\n",
    "    rows = []\n",
    "    for none_relationship in none_relationships:\n",
    "        relationship = [objects[none_relationship[0]], objects[none_relationship[1]]]\n",
    "        row = {\n",
    "            'ImageID': image_id,\n",
    "            'RelationshipLabel': 'None'\n",
    "        }\n",
    "        if (relationship[0][0], relationship[1][0]) not in relationship_groups:\n",
    "            relationship = relationship[::-1]\n",
    "            relationship_groups.append((relationship[0][0], relationship[1][0]))\n",
    "        for idx, object_features in enumerate(relationship):\n",
    "            row[f'LabelName{idx+1}'] = object_features[0]\n",
    "            row[f'XMin{idx+1}'] = object_features[1]        \n",
    "            row[f'XMax{idx+1}'] = object_features[2]        \n",
    "            row[f'YMin{idx+1}'] = object_features[3]        \n",
    "            row[f'YMax{idx+1}'] = object_features[4]\n",
    "        rows.append(row)\n",
    "    return rows, relationship_groups"
   ]
  },
  {
   "cell_type": "markdown",
   "metadata": {},
   "source": [
    "# Combining None Relationships:"
   ]
  },
  {
   "cell_type": "code",
   "execution_count": 164,
   "metadata": {},
   "outputs": [],
   "source": [
    "relationship_grouped = relationship_df.groupby('ImageID')\n",
    "bbox_grouped = bbox_df.groupby('ImageID')"
   ]
  },
  {
   "cell_type": "code",
   "execution_count": 1,
   "metadata": {},
   "outputs": [],
   "source": [
    "relationship_groups = list(relationship_df.groupby(['LabelName1', 'LabelName2']).groups.keys())\n",
    "relationship_df_none = relationship_df\n",
    "for name, group in relationship_grouped:\n",
    "    relationships = get_relationships(group)\n",
    "    objects = get_objects(bbox_grouped.get_group(name))\n",
    "    relationship_indices = get_relationship_indices(relationships, objects)\n",
    "    none_relationships = get_none_relationships(relationship_indices, len(objects))\n",
    "    none_rows, relationship_groups = get_none_rows(none_relationships, objects, relationship_groups, name)\n",
    "    relationship_df_none = relationship_df_none.append(pd.DataFrame(none_rows), ignore_index=True, sort=False)"
   ]
  },
  {
   "cell_type": "code",
   "execution_count": 194,
   "metadata": {},
   "outputs": [],
   "source": [
    "date = str(datetime.now()).replace(' ', '_').replace(':', '-').split('.')[0]\n",
    "relationship_df_none.to_csv(f'../checkpoints/relationships_none_{date}.csv', index=False)"
   ]
  },
  {
   "cell_type": "code",
   "execution_count": 6,
   "metadata": {},
   "outputs": [
    {
     "data": {
      "text/html": [
       "<div>\n",
       "<style scoped>\n",
       "    .dataframe tbody tr th:only-of-type {\n",
       "        vertical-align: middle;\n",
       "    }\n",
       "\n",
       "    .dataframe tbody tr th {\n",
       "        vertical-align: top;\n",
       "    }\n",
       "\n",
       "    .dataframe thead th {\n",
       "        text-align: right;\n",
       "    }\n",
       "</style>\n",
       "<table border=\"1\" class=\"dataframe\">\n",
       "  <thead>\n",
       "    <tr style=\"text-align: right;\">\n",
       "      <th></th>\n",
       "      <th>ImageID</th>\n",
       "      <th>LabelName1</th>\n",
       "      <th>LabelName2</th>\n",
       "      <th>XMin1</th>\n",
       "      <th>XMax1</th>\n",
       "      <th>YMin1</th>\n",
       "      <th>YMax1</th>\n",
       "      <th>XMin2</th>\n",
       "      <th>XMax2</th>\n",
       "      <th>YMin2</th>\n",
       "      <th>YMax2</th>\n",
       "      <th>RelationshipLabel</th>\n",
       "    </tr>\n",
       "  </thead>\n",
       "  <tbody>\n",
       "    <tr>\n",
       "      <td>0</td>\n",
       "      <td>9553b9608577b74b</td>\n",
       "      <td>Man</td>\n",
       "      <td>Sunglasses</td>\n",
       "      <td>0.023404</td>\n",
       "      <td>0.985106</td>\n",
       "      <td>0.038344</td>\n",
       "      <td>0.981595</td>\n",
       "      <td>0.238298</td>\n",
       "      <td>0.759574</td>\n",
       "      <td>0.349693</td>\n",
       "      <td>0.529141</td>\n",
       "      <td>wears</td>\n",
       "    </tr>\n",
       "    <tr>\n",
       "      <td>1</td>\n",
       "      <td>c9b609675b0db27e</td>\n",
       "      <td>Wine glass</td>\n",
       "      <td>Wine</td>\n",
       "      <td>0.276549</td>\n",
       "      <td>0.997788</td>\n",
       "      <td>0.000000</td>\n",
       "      <td>1.000000</td>\n",
       "      <td>0.272124</td>\n",
       "      <td>1.000000</td>\n",
       "      <td>0.000000</td>\n",
       "      <td>1.000000</td>\n",
       "      <td>contain</td>\n",
       "    </tr>\n",
       "    <tr>\n",
       "      <td>2</td>\n",
       "      <td>5813f39feb5218c3</td>\n",
       "      <td>Woman</td>\n",
       "      <td>Handbag</td>\n",
       "      <td>0.077088</td>\n",
       "      <td>0.897216</td>\n",
       "      <td>0.000000</td>\n",
       "      <td>1.000000</td>\n",
       "      <td>0.079229</td>\n",
       "      <td>0.740899</td>\n",
       "      <td>0.004688</td>\n",
       "      <td>0.860937</td>\n",
       "      <td>wears</td>\n",
       "    </tr>\n",
       "    <tr>\n",
       "      <td>3</td>\n",
       "      <td>5813f39feb5218c3</td>\n",
       "      <td>Girl</td>\n",
       "      <td>Handbag</td>\n",
       "      <td>0.308351</td>\n",
       "      <td>0.899358</td>\n",
       "      <td>0.000000</td>\n",
       "      <td>1.000000</td>\n",
       "      <td>0.079229</td>\n",
       "      <td>0.740899</td>\n",
       "      <td>0.004688</td>\n",
       "      <td>0.860937</td>\n",
       "      <td>wears</td>\n",
       "    </tr>\n",
       "    <tr>\n",
       "      <td>4</td>\n",
       "      <td>b2b742920d39272f</td>\n",
       "      <td>Man</td>\n",
       "      <td>Sunglasses</td>\n",
       "      <td>0.099278</td>\n",
       "      <td>1.000000</td>\n",
       "      <td>0.000000</td>\n",
       "      <td>1.000000</td>\n",
       "      <td>0.133574</td>\n",
       "      <td>0.916968</td>\n",
       "      <td>0.238267</td>\n",
       "      <td>0.590253</td>\n",
       "      <td>wears</td>\n",
       "    </tr>\n",
       "  </tbody>\n",
       "</table>\n",
       "</div>"
      ],
      "text/plain": [
       "            ImageID  LabelName1  LabelName2     XMin1     XMax1     YMin1  \\\n",
       "0  9553b9608577b74b         Man  Sunglasses  0.023404  0.985106  0.038344   \n",
       "1  c9b609675b0db27e  Wine glass        Wine  0.276549  0.997788  0.000000   \n",
       "2  5813f39feb5218c3       Woman     Handbag  0.077088  0.897216  0.000000   \n",
       "3  5813f39feb5218c3        Girl     Handbag  0.308351  0.899358  0.000000   \n",
       "4  b2b742920d39272f         Man  Sunglasses  0.099278  1.000000  0.000000   \n",
       "\n",
       "      YMax1     XMin2     XMax2     YMin2     YMax2 RelationshipLabel  \n",
       "0  0.981595  0.238298  0.759574  0.349693  0.529141             wears  \n",
       "1  1.000000  0.272124  1.000000  0.000000  1.000000           contain  \n",
       "2  1.000000  0.079229  0.740899  0.004688  0.860937             wears  \n",
       "3  1.000000  0.079229  0.740899  0.004688  0.860937             wears  \n",
       "4  1.000000  0.133574  0.916968  0.238267  0.590253             wears  "
      ]
     },
     "execution_count": 6,
     "metadata": {},
     "output_type": "execute_result"
    }
   ],
   "source": [
    "relationship_df.head()"
   ]
  },
  {
   "cell_type": "code",
   "execution_count": null,
   "metadata": {},
   "outputs": [],
   "source": []
  }
 ],
 "metadata": {
  "kernelspec": {
   "display_name": "Python 3",
   "language": "python",
   "name": "python3"
  },
  "language_info": {
   "codemirror_mode": {
    "name": "ipython",
    "version": 3
   },
   "file_extension": ".py",
   "mimetype": "text/x-python",
   "name": "python",
   "nbconvert_exporter": "python",
   "pygments_lexer": "ipython3",
   "version": "3.7.3"
  }
 },
 "nbformat": 4,
 "nbformat_minor": 2
}
