{
 "cells": [
  {
   "cell_type": "code",
   "execution_count": 5,
   "metadata": {},
   "outputs": [],
   "source": [
    "import pandas as pd\n",
    "import imagesize\n",
    "from tqdm import tqdm_notebook\n",
    "from glob import glob\n",
    "from datetime import datetime"
   ]
  },
  {
   "cell_type": "code",
   "execution_count": 3,
   "metadata": {},
   "outputs": [],
   "source": [
    "file_name = [file_name for file_name in glob('../checkpoints/*') if 'none' in file_name][-1]\n",
    "df = pd.read_csv(file_name, nrows=700_000)\n",
    "image_ids = df.groupby('ImageID').groups.keys()"
   ]
  },
  {
   "cell_type": "code",
   "execution_count": 4,
   "metadata": {},
   "outputs": [
    {
     "data": {
      "application/vnd.jupyter.widget-view+json": {
       "model_id": "943da27be87648879e2f32380e8fa1be",
       "version_major": 2,
       "version_minor": 0
      },
      "text/plain": [
       "HBox(children=(IntProgress(value=0, max=133503), HTML(value='')))"
      ]
     },
     "metadata": {},
     "output_type": "display_data"
    },
    {
     "name": "stdout",
     "output_type": "stream",
     "text": [
      "\n"
     ]
    }
   ],
   "source": [
    "dimensions_df = pd.DataFrame(columns=['ImageID', 'Width', 'Height'])\n",
    "\n",
    "for image_id in tqdm_notebook(image_ids):\n",
    "    row = {'ImageID': image_id}\n",
    "    for dataset in ['train', 'validation', 'test']:\n",
    "        try:\n",
    "            row['Width'], row['Height'] = imagesize.get(f'../dataset/{dataset}/{image_id}.jpg')\n",
    "            dimensions_df = dimensions_df.append(pd.Series(row), ignore_index=True, sort=False)\n",
    "        except:\n",
    "            pass"
   ]
  },
  {
   "cell_type": "code",
   "execution_count": 8,
   "metadata": {},
   "outputs": [],
   "source": [
    "date = str(datetime.now()).replace(' ', '_').replace(':', '-').split('.')[0]\n",
    "dimensions_df.to_csv(f'../checkpoints/images_dimensions_{date}.csv', index=False)"
   ]
  }
 ],
 "metadata": {
  "kernelspec": {
   "display_name": "Python 3",
   "language": "python",
   "name": "python3"
  },
  "language_info": {
   "codemirror_mode": {
    "name": "ipython",
    "version": 3
   },
   "file_extension": ".py",
   "mimetype": "text/x-python",
   "name": "python",
   "nbconvert_exporter": "python",
   "pygments_lexer": "ipython3",
   "version": "3.7.3"
  }
 },
 "nbformat": 4,
 "nbformat_minor": 2
}
