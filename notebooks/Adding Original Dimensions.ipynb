{
 "cells": [
  {
   "cell_type": "code",
   "execution_count": 3,
   "metadata": {},
   "outputs": [],
   "source": [
    "import pandas as pd\n",
    "from datetime import datetime"
   ]
  },
  {
   "cell_type": "code",
   "execution_count": 38,
   "metadata": {},
   "outputs": [],
   "source": [
    "df_final = pd.read_csv('../checkpoints/relationship_final/relationship_final_2020-04-16_21-00-58.csv')\n",
    "df_dimensions = pd.read_csv('../checkpoints/images_dimensions/images_dimensions_2020-04-12_17-07-13.csv')"
   ]
  },
  {
   "cell_type": "code",
   "execution_count": 39,
   "metadata": {},
   "outputs": [],
   "source": [
    "df_final = pd.merge(df_final.reset_index(), df_dimensions.reset_index(), how='inner', on=['ImageID'])"
   ]
  },
  {
   "cell_type": "code",
   "execution_count": 40,
   "metadata": {},
   "outputs": [],
   "source": [
    "columns = df_final.columns.tolist()\n",
    "columns.remove('index_y')\n",
    "columns.remove('index_x')"
   ]
  },
  {
   "cell_type": "code",
   "execution_count": 41,
   "metadata": {},
   "outputs": [],
   "source": [
    "df_final = df_final[columns]"
   ]
  },
  {
   "cell_type": "code",
   "execution_count": 43,
   "metadata": {},
   "outputs": [],
   "source": [
    "df_final['XMin1'] = df_final.XMin1 * df_final.Width\n",
    "df_final['XMax1'] = df_final.XMax1 * df_final.Width\n",
    "\n",
    "df_final['YMin1'] = df_final.YMin1 * df_final.Height\n",
    "df_final['YMax1'] = df_final.YMax1 * df_final.Height\n",
    "\n",
    "df_final['XMin2'] = df_final.XMin2 * df_final.Width\n",
    "df_final['XMax2'] = df_final.XMax2 * df_final.Width\n",
    "\n",
    "df_final['YMin2'] = df_final.YMin2 * df_final.Height\n",
    "df_final['YMax2'] = df_final.YMax2 * df_final.Height"
   ]
  },
  {
   "cell_type": "code",
   "execution_count": 46,
   "metadata": {},
   "outputs": [],
   "source": [
    "df_final = df_final[columns[:-2]]"
   ]
  },
  {
   "cell_type": "code",
   "execution_count": 48,
   "metadata": {},
   "outputs": [],
   "source": [
    "date = str(datetime.now()).replace(' ', '_').replace(':', '-').split('.')[0]\n",
    "df_final.to_csv(f'../checkpoints/relationship_final/relationship_final_dimensions_{date}.csv', index=False)"
   ]
  }
 ],
 "metadata": {
  "kernelspec": {
   "display_name": "Python 3",
   "language": "python",
   "name": "python3"
  },
  "language_info": {
   "codemirror_mode": {
    "name": "ipython",
    "version": 3
   },
   "file_extension": ".py",
   "mimetype": "text/x-python",
   "name": "python",
   "nbconvert_exporter": "python",
   "pygments_lexer": "ipython3",
   "version": "3.7.3"
  }
 },
 "nbformat": 4,
 "nbformat_minor": 2
}
