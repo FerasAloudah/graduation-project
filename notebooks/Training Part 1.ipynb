{
 "cells": [
  {
   "cell_type": "code",
   "execution_count": 44,
   "metadata": {},
   "outputs": [],
   "source": [
    "import pandas as pd\n",
    "import lightgbm as lgb\n",
    "import numpy as np\n",
    "import warnings\n",
    "import matplotlib.pyplot as plt\n",
    "from glob import glob\n",
    "from tqdm import tqdm\n",
    "from sklearn.model_selection import train_test_split\n",
    "from sklearn.metrics import accuracy_score, classification_report, average_precision_score, precision_score\n",
    "\n",
    "warnings.filterwarnings('ignore')\n",
    "\n",
    "DATA_FILE = '../metadata/relationship_final/relationship_final.csv'"
   ]
  },
  {
   "cell_type": "code",
   "execution_count": 57,
   "metadata": {},
   "outputs": [],
   "source": [
    "dataset = pd.read_csv(DATA_FILE)"
   ]
  },
  {
   "cell_type": "code",
   "execution_count": 46,
   "metadata": {},
   "outputs": [
    {
     "data": {
      "text/html": [
       "<div>\n",
       "<style scoped>\n",
       "    .dataframe tbody tr th:only-of-type {\n",
       "        vertical-align: middle;\n",
       "    }\n",
       "\n",
       "    .dataframe tbody tr th {\n",
       "        vertical-align: top;\n",
       "    }\n",
       "\n",
       "    .dataframe thead th {\n",
       "        text-align: right;\n",
       "    }\n",
       "</style>\n",
       "<table border=\"1\" class=\"dataframe\">\n",
       "  <thead>\n",
       "    <tr style=\"text-align: right;\">\n",
       "      <th></th>\n",
       "      <th>ImageID</th>\n",
       "      <th>LabelName1</th>\n",
       "      <th>LabelName2</th>\n",
       "      <th>XMin1</th>\n",
       "      <th>XMax1</th>\n",
       "      <th>YMin1</th>\n",
       "      <th>YMax1</th>\n",
       "      <th>XMin2</th>\n",
       "      <th>XMax2</th>\n",
       "      <th>YMin2</th>\n",
       "      <th>...</th>\n",
       "      <th>Area2</th>\n",
       "      <th>Area3</th>\n",
       "      <th>DistanceTopLeft</th>\n",
       "      <th>DistanceTopRight</th>\n",
       "      <th>DistanceBottomLeft</th>\n",
       "      <th>DistanceBottomRight</th>\n",
       "      <th>DistanceCenter</th>\n",
       "      <th>IoU</th>\n",
       "      <th>RelationshipFrequency</th>\n",
       "      <th>RelationshipLabel</th>\n",
       "    </tr>\n",
       "  </thead>\n",
       "  <tbody>\n",
       "    <tr>\n",
       "      <th>0</th>\n",
       "      <td>9553b9608577b74b</td>\n",
       "      <td>Man</td>\n",
       "      <td>Sunglasses</td>\n",
       "      <td>0.023404</td>\n",
       "      <td>0.985106</td>\n",
       "      <td>0.038344</td>\n",
       "      <td>0.981595</td>\n",
       "      <td>0.238298</td>\n",
       "      <td>0.759574</td>\n",
       "      <td>0.349693</td>\n",
       "      <td>...</td>\n",
       "      <td>0.093542</td>\n",
       "      <td>0.907126</td>\n",
       "      <td>0.667443</td>\n",
       "      <td>0.505549</td>\n",
       "      <td>0.378309</td>\n",
       "      <td>0.384451</td>\n",
       "      <td>0.483938</td>\n",
       "      <td>0.470679</td>\n",
       "      <td>0.787829</td>\n",
       "      <td>wears</td>\n",
       "    </tr>\n",
       "    <tr>\n",
       "      <th>1</th>\n",
       "      <td>b2b742920d39272f</td>\n",
       "      <td>Man</td>\n",
       "      <td>Sunglasses</td>\n",
       "      <td>0.099278</td>\n",
       "      <td>1.000000</td>\n",
       "      <td>0.000000</td>\n",
       "      <td>1.000000</td>\n",
       "      <td>0.133574</td>\n",
       "      <td>0.916968</td>\n",
       "      <td>0.238267</td>\n",
       "      <td>...</td>\n",
       "      <td>0.275744</td>\n",
       "      <td>0.900722</td>\n",
       "      <td>0.762505</td>\n",
       "      <td>0.418075</td>\n",
       "      <td>0.240723</td>\n",
       "      <td>0.252320</td>\n",
       "      <td>0.418406</td>\n",
       "      <td>0.634265</td>\n",
       "      <td>0.787829</td>\n",
       "      <td>wears</td>\n",
       "    </tr>\n",
       "    <tr>\n",
       "      <th>2</th>\n",
       "      <td>434a26d95fcb7c74</td>\n",
       "      <td>Man</td>\n",
       "      <td>Sunglasses</td>\n",
       "      <td>0.227891</td>\n",
       "      <td>0.858844</td>\n",
       "      <td>0.040307</td>\n",
       "      <td>0.996161</td>\n",
       "      <td>0.282313</td>\n",
       "      <td>0.460884</td>\n",
       "      <td>0.193858</td>\n",
       "      <td>...</td>\n",
       "      <td>0.016109</td>\n",
       "      <td>0.603099</td>\n",
       "      <td>0.804147</td>\n",
       "      <td>0.815749</td>\n",
       "      <td>0.162910</td>\n",
       "      <td>0.426556</td>\n",
       "      <td>0.552341</td>\n",
       "      <td>0.402799</td>\n",
       "      <td>0.787829</td>\n",
       "      <td>wears</td>\n",
       "    </tr>\n",
       "    <tr>\n",
       "      <th>3</th>\n",
       "      <td>393bfd0076ce5ce9</td>\n",
       "      <td>Man</td>\n",
       "      <td>Sunglasses</td>\n",
       "      <td>0.548736</td>\n",
       "      <td>1.000000</td>\n",
       "      <td>0.171480</td>\n",
       "      <td>1.000000</td>\n",
       "      <td>0.676895</td>\n",
       "      <td>0.853791</td>\n",
       "      <td>0.279783</td>\n",
       "      <td>...</td>\n",
       "      <td>0.011495</td>\n",
       "      <td>0.373881</td>\n",
       "      <td>0.731531</td>\n",
       "      <td>0.671349</td>\n",
       "      <td>0.167792</td>\n",
       "      <td>0.181952</td>\n",
       "      <td>0.438156</td>\n",
       "      <td>0.472318</td>\n",
       "      <td>0.787829</td>\n",
       "      <td>wears</td>\n",
       "    </tr>\n",
       "    <tr>\n",
       "      <th>4</th>\n",
       "      <td>bc383971045dc428</td>\n",
       "      <td>Man</td>\n",
       "      <td>Sunglasses</td>\n",
       "      <td>0.254425</td>\n",
       "      <td>0.907080</td>\n",
       "      <td>0.023599</td>\n",
       "      <td>1.000000</td>\n",
       "      <td>0.473451</td>\n",
       "      <td>0.637168</td>\n",
       "      <td>0.126844</td>\n",
       "      <td>...</td>\n",
       "      <td>0.005554</td>\n",
       "      <td>0.637253</td>\n",
       "      <td>0.900208</td>\n",
       "      <td>0.881569</td>\n",
       "      <td>0.242140</td>\n",
       "      <td>0.288984</td>\n",
       "      <td>0.578225</td>\n",
       "      <td>0.368365</td>\n",
       "      <td>0.787829</td>\n",
       "      <td>wears</td>\n",
       "    </tr>\n",
       "  </tbody>\n",
       "</table>\n",
       "<p>5 rows × 26 columns</p>\n",
       "</div>"
      ],
      "text/plain": [
       "            ImageID LabelName1  LabelName2     XMin1     XMax1     YMin1  \\\n",
       "0  9553b9608577b74b        Man  Sunglasses  0.023404  0.985106  0.038344   \n",
       "1  b2b742920d39272f        Man  Sunglasses  0.099278  1.000000  0.000000   \n",
       "2  434a26d95fcb7c74        Man  Sunglasses  0.227891  0.858844  0.040307   \n",
       "3  393bfd0076ce5ce9        Man  Sunglasses  0.548736  1.000000  0.171480   \n",
       "4  bc383971045dc428        Man  Sunglasses  0.254425  0.907080  0.023599   \n",
       "\n",
       "      YMax1     XMin2     XMax2     YMin2  ...     Area2     Area3  \\\n",
       "0  0.981595  0.238298  0.759574  0.349693  ...  0.093542  0.907126   \n",
       "1  1.000000  0.133574  0.916968  0.238267  ...  0.275744  0.900722   \n",
       "2  0.996161  0.282313  0.460884  0.193858  ...  0.016109  0.603099   \n",
       "3  1.000000  0.676895  0.853791  0.279783  ...  0.011495  0.373881   \n",
       "4  1.000000  0.473451  0.637168  0.126844  ...  0.005554  0.637253   \n",
       "\n",
       "   DistanceTopLeft  DistanceTopRight  DistanceBottomLeft  DistanceBottomRight  \\\n",
       "0         0.667443          0.505549            0.378309             0.384451   \n",
       "1         0.762505          0.418075            0.240723             0.252320   \n",
       "2         0.804147          0.815749            0.162910             0.426556   \n",
       "3         0.731531          0.671349            0.167792             0.181952   \n",
       "4         0.900208          0.881569            0.242140             0.288984   \n",
       "\n",
       "   DistanceCenter       IoU  RelationshipFrequency  RelationshipLabel  \n",
       "0        0.483938  0.470679               0.787829              wears  \n",
       "1        0.418406  0.634265               0.787829              wears  \n",
       "2        0.552341  0.402799               0.787829              wears  \n",
       "3        0.438156  0.472318               0.787829              wears  \n",
       "4        0.578225  0.368365               0.787829              wears  \n",
       "\n",
       "[5 rows x 26 columns]"
      ]
     },
     "execution_count": 46,
     "metadata": {},
     "output_type": "execute_result"
    }
   ],
   "source": [
    "dataset.head()"
   ]
  },
  {
   "cell_type": "code",
   "execution_count": 58,
   "metadata": {},
   "outputs": [],
   "source": [
    "def swap_contains(row):\n",
    "    row.LabelName1, row.XMin1, row.XMax1, row.YMin1, row.YMax1, row.Area1, row.LabelName2, row.XMin2, row.XMax2, row.YMin2, row.YMax2, row.Area2 = row.LabelName2, row.XMin2, row.XMax2, row.YMin2, row.YMax2, row.Area2, row.LabelName1, row.XMin1, row.XMax1, row.YMin1, row.YMax1, row.Area1\n",
    "    return row"
   ]
  },
  {
   "cell_type": "code",
   "execution_count": 59,
   "metadata": {},
   "outputs": [],
   "source": [
    "dataset[dataset.RelationshipLabel == 'contain'] = dataset[dataset.RelationshipLabel == 'contain'].apply(swap_contains, axis=1)"
   ]
  },
  {
   "cell_type": "code",
   "execution_count": 60,
   "metadata": {},
   "outputs": [],
   "source": [
    "columns = dataset.columns.tolist()\n",
    "columns.remove('RelationshipFrequency')"
   ]
  },
  {
   "cell_type": "code",
   "execution_count": 61,
   "metadata": {},
   "outputs": [],
   "source": [
    "dataset = dataset[columns]"
   ]
  },
  {
   "cell_type": "code",
   "execution_count": 62,
   "metadata": {},
   "outputs": [],
   "source": [
    "swap_relations = {\n",
    "    'highfive': 'interacts_with',\n",
    "    'talk_on_phone': 'interacts_with',\n",
    "    'cut': 'interacts_with',\n",
    "    'holding_hands': 'interacts_with',\n",
    "    'handshake': 'interacts_with',\n",
    "    'eat': 'interacts_with',\n",
    "    'read': 'interacts_with',\n",
    "    'hug': 'interacts_with',\n",
    "    'kiss': 'interacts_with',\n",
    "    'dance': 'interacts_with',\n",
    "    'hits': 'interacts_with',\n",
    "    'contain': 'inside_of',\n",
    "    'snowboard': 'on',\n",
    "    'ski': 'on',\n",
    "    'surf': 'on',\n",
    "    'skateboard': 'on',\n",
    "    'hang': 'on',\n",
    "    'ride': 'on',\n",
    "    'throw': 'hits',\n",
    "    'kick': 'hits',\n",
    "    'catch': 'holds',\n",
    "    'drink': 'holds'\n",
    "}"
   ]
  },
  {
   "cell_type": "code",
   "execution_count": 65,
   "metadata": {},
   "outputs": [],
   "source": [
    "dataset = dataset[dataset.RelationshipLabel != 'none']\n",
    "dataset['RelationshipLabel'] = dataset.RelationshipLabel.apply(lambda x: swap_relations.get(x, x))"
   ]
  },
  {
   "cell_type": "code",
   "execution_count": 67,
   "metadata": {},
   "outputs": [],
   "source": [
    "targets_string = list(set(dataset.RelationshipLabel.unique()))\n",
    "targets = {target: idx for idx, target in enumerate(targets_string)}"
   ]
  },
  {
   "cell_type": "code",
   "execution_count": 12,
   "metadata": {},
   "outputs": [],
   "source": [
    "desc = pd.read_csv('../metadata/class-descriptions-boxable.csv')\n",
    "desc_labels = dict(zip(desc.LabelName, desc.LabelID))\n",
    "label_values = {idx: value for idx, value in enumerate(desc_labels.keys())}\n",
    "label_names = {value: key for key, value in label_values.items()}"
   ]
  },
  {
   "cell_type": "code",
   "execution_count": 69,
   "metadata": {},
   "outputs": [],
   "source": [
    "dataset['LabelName1'] = dataset.LabelName1.map(label_names)\n",
    "dataset['LabelName2'] = dataset.LabelName2.map(label_names)\n",
    "dataset['RelationshipLabel'] = dataset.RelationshipLabel.map(targets)"
   ]
  },
  {
   "cell_type": "code",
   "execution_count": 15,
   "metadata": {},
   "outputs": [],
   "source": [
    "def get_test_train_split(df):\n",
    "    X = df.iloc[:, 1:-1].values\n",
    "    y = df.iloc[:, -1].values\n",
    "    \n",
    "    return train_test_split(X, y, test_size=0.25)"
   ]
  },
  {
   "cell_type": "code",
   "execution_count": 16,
   "metadata": {},
   "outputs": [],
   "source": [
    "def get_dataset(X_train, y_train, features, cat):\n",
    "    d_train = lgb.Dataset(X_train, label=y_train, feature_name=features, \n",
    "                      categorical_feature=cat, free_raw_data=False)\n",
    "    d_train.construct();\n",
    "    return d_train"
   ]
  },
  {
   "cell_type": "code",
   "execution_count": 17,
   "metadata": {},
   "outputs": [],
   "source": [
    "def print_classification_report(model, X_test, y_test):\n",
    "    y_pred = model.predict(X_test)\n",
    "    predictions, _ = get_predictions(y_pred)\n",
    "    print(classification_report(y_test, predictions, target_names=targets_string))\n",
    "    return y_pred"
   ]
  },
  {
   "cell_type": "code",
   "execution_count": 18,
   "metadata": {},
   "outputs": [],
   "source": [
    "def get_predictions(y_pred):\n",
    "    predictions = []\n",
    "    scores = []\n",
    "    for idx, prediction in enumerate(y_pred):\n",
    "        index = np.where(prediction == np.max(prediction))[0][0]\n",
    "        target_class = targets_string[index]\n",
    "        predictions.append(index)\n",
    "        scores.append(prediction[index])\n",
    "    return np.array(predictions), np.array(scores)"
   ]
  },
  {
   "cell_type": "code",
   "execution_count": 19,
   "metadata": {},
   "outputs": [],
   "source": [
    "def train_model(df, features, cat, params={}, n=100):\n",
    "    X_train, X_test, y_train, y_test = get_test_train_split(df)\n",
    "    d_train = get_dataset(X_train, y_train, features, cat)\n",
    "    \n",
    "    model = lgb.train(params, d_train, n)\n",
    "    y_pred = print_classification_report(model, X_test, y_test)\n",
    "    \n",
    "    return model, X_test, y_test, y_pred"
   ]
  },
  {
   "cell_type": "code",
   "execution_count": 20,
   "metadata": {},
   "outputs": [],
   "source": [
    "params = {}\n",
    "params['learning_rate'] = 0.003\n",
    "params['boosting_type'] = 'gbdt'\n",
    "params['objective'] = 'multiclass'\n",
    "params['metric'] = 'multi_logloss'\n",
    "params['sub_feature'] = 0.5\n",
    "params['num_leaves'] = 10\n",
    "params['min_data'] = 50\n",
    "params['max_depth'] = 10\n",
    "params['num_classes'] = len(targets)"
   ]
  },
  {
   "cell_type": "code",
   "execution_count": 196,
   "metadata": {},
   "outputs": [],
   "source": [
    "over_sampled = list(dataset.RelationshipLabel.value_counts().index)[:2]"
   ]
  },
  {
   "cell_type": "code",
   "execution_count": 198,
   "metadata": {},
   "outputs": [],
   "source": [
    "dfs = [dataset[~dataset.RelationshipLabel.isin(over_sampled)]]\n",
    "for s in over_sampled:\n",
    "    dfs.append(dataset[dataset.RelationshipLabel == s].sample(60000))\n",
    "df_undersampled = pd.concat(dfs, axis=0)"
   ]
  },
  {
   "cell_type": "code",
   "execution_count": 70,
   "metadata": {
    "scrolled": true
   },
   "outputs": [
    {
     "name": "stdout",
     "output_type": "stream",
     "text": [
      "                precision    recall  f1-score   support\n",
      "\n",
      "            on       0.88      0.98      0.93     13877\n",
      "         plays       0.87      0.29      0.44      2793\n",
      "     inside_of       0.98      0.87      0.92      6624\n",
      "interacts_with       0.87      0.77      0.82      3088\n",
      "            at       0.99      1.00      1.00     29573\n",
      "         holds       0.77      0.83      0.80      9006\n",
      "         wears       0.98      1.00      0.99     27018\n",
      "\n",
      "      accuracy                           0.94     91979\n",
      "     macro avg       0.91      0.82      0.84     91979\n",
      "  weighted avg       0.94      0.94      0.94     91979\n",
      "\n"
     ]
    }
   ],
   "source": [
    "model, X_test, y_test, y_pred = train_model(df_undersampled, columns[1:-1], columns[1:3], params, n=500)"
   ]
  },
  {
   "cell_type": "code",
   "execution_count": 102,
   "metadata": {},
   "outputs": [],
   "source": [
    "model.save_model('model.txt');"
   ]
  }
 ],
 "metadata": {
  "kernelspec": {
   "display_name": "Python 3",
   "language": "python",
   "name": "python3"
  },
  "language_info": {
   "codemirror_mode": {
    "name": "ipython",
    "version": 3
   },
   "file_extension": ".py",
   "mimetype": "text/x-python",
   "name": "python",
   "nbconvert_exporter": "python",
   "pygments_lexer": "ipython3",
   "version": "3.7.3"
  }
 },
 "nbformat": 4,
 "nbformat_minor": 2
}
